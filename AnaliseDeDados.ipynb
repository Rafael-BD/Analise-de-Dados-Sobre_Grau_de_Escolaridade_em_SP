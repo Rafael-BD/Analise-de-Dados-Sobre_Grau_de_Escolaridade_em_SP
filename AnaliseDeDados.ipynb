{
 "cells": [
  {
   "cell_type": "markdown",
   "metadata": {},
   "source": [
    "# Trabalho de análise de dados sobre o grau de escolaridade das pessoas nos municípios do estado de São Paulo\n",
    "\n",
    "# Feito por Rafael Bettini Dias e Brenno Richard Rabelo de Almeida"
   ]
  },
  {
   "cell_type": "code",
   "execution_count": 20,
   "metadata": {},
   "outputs": [],
   "source": [
    "import pandas as pd\n",
    "import matplotlib as plt\n",
    "low_memory=False\n",
    "%matplotlib inline\n",
    "\n"
   ]
  },
  {
   "cell_type": "code",
   "execution_count": 21,
   "metadata": {},
   "outputs": [],
   "source": [
    "filename = r'dados.csv'\n",
    "df = pd.read_csv(filename,delimiter=';', encoding='ISO-8859-1', error_bad_lines=False)"
   ]
  },
  {
   "cell_type": "code",
   "execution_count": 22,
   "metadata": {},
   "outputs": [
    {
     "data": {
      "text/plain": [
       "(651, 6)"
      ]
     },
     "execution_count": 22,
     "metadata": {},
     "output_type": "execute_result"
    }
   ],
   "source": [
    "df.shape"
   ]
  },
  {
   "cell_type": "code",
   "execution_count": 24,
   "metadata": {},
   "outputs": [
    {
     "name": "stdout",
     "output_type": "stream",
     "text": [
      "<class 'pandas.core.frame.DataFrame'>\n",
      "RangeIndex: 651 entries, 0 to 650\n",
      "Data columns (total 6 columns):\n",
      " #   Column                                             Non-Null Count  Dtype  \n",
      "---  ------                                             --------------  -----  \n",
      " 0   Município                                          647 non-null    object \n",
      " 1   Sem instrução/1º ciclo fundamental incompleto      645 non-null    object \n",
      " 2   1º ciclo fundamental completo/2º ciclo incompleto  645 non-null    object \n",
      " 3   2º ciclo fundamental completo ou mais              645 non-null    float64\n",
      " 4   Não determinada                                    645 non-null    object \n",
      " 5   Total                                              645 non-null    float64\n",
      "dtypes: float64(2), object(4)\n",
      "memory usage: 30.6+ KB\n"
     ]
    }
   ],
   "source": [
    "df.info()"
   ]
  },
  {
   "cell_type": "code",
   "execution_count": 25,
   "metadata": {},
   "outputs": [
    {
     "data": {
      "text/html": [
       "<div>\n",
       "<style scoped>\n",
       "    .dataframe tbody tr th:only-of-type {\n",
       "        vertical-align: middle;\n",
       "    }\n",
       "\n",
       "    .dataframe tbody tr th {\n",
       "        vertical-align: top;\n",
       "    }\n",
       "\n",
       "    .dataframe thead th {\n",
       "        text-align: right;\n",
       "    }\n",
       "</style>\n",
       "<table border=\"1\" class=\"dataframe\">\n",
       "  <thead>\n",
       "    <tr style=\"text-align: right;\">\n",
       "      <th></th>\n",
       "      <th>Município</th>\n",
       "      <th>Sem instrução/1º ciclo fundamental incompleto</th>\n",
       "      <th>1º ciclo fundamental completo/2º ciclo incompleto</th>\n",
       "      <th>2º ciclo fundamental completo ou mais</th>\n",
       "      <th>Não determinada</th>\n",
       "      <th>Total</th>\n",
       "    </tr>\n",
       "  </thead>\n",
       "  <tbody>\n",
       "    <tr>\n",
       "      <th>551</th>\n",
       "      <td>354920 São João das Duas Pontes</td>\n",
       "      <td>6</td>\n",
       "      <td>9</td>\n",
       "      <td>237.0</td>\n",
       "      <td>7</td>\n",
       "      <td>259.0</td>\n",
       "    </tr>\n",
       "    <tr>\n",
       "      <th>97</th>\n",
       "      <td>350860 Cachoeira Paulista</td>\n",
       "      <td>82</td>\n",
       "      <td>299</td>\n",
       "      <td>2963.0</td>\n",
       "      <td>180</td>\n",
       "      <td>3524.0</td>\n",
       "    </tr>\n",
       "    <tr>\n",
       "      <th>540</th>\n",
       "      <td>354810 Santo Antônio do Jardim</td>\n",
       "      <td>24</td>\n",
       "      <td>75</td>\n",
       "      <td>533.0</td>\n",
       "      <td>19</td>\n",
       "      <td>651.0</td>\n",
       "    </tr>\n",
       "    <tr>\n",
       "      <th>572</th>\n",
       "      <td>355110 Sarapuí</td>\n",
       "      <td>27</td>\n",
       "      <td>141</td>\n",
       "      <td>730.0</td>\n",
       "      <td>107</td>\n",
       "      <td>1005.0</td>\n",
       "    </tr>\n",
       "    <tr>\n",
       "      <th>506</th>\n",
       "      <td>354500 Salesópolis</td>\n",
       "      <td>74</td>\n",
       "      <td>166</td>\n",
       "      <td>1491.0</td>\n",
       "      <td>55</td>\n",
       "      <td>1786.0</td>\n",
       "    </tr>\n",
       "    <tr>\n",
       "      <th>308</th>\n",
       "      <td>352720 Lorena</td>\n",
       "      <td>393</td>\n",
       "      <td>672</td>\n",
       "      <td>8471.0</td>\n",
       "      <td>582</td>\n",
       "      <td>10118.0</td>\n",
       "    </tr>\n",
       "    <tr>\n",
       "      <th>42</th>\n",
       "      <td>350370 Ariranha</td>\n",
       "      <td>44</td>\n",
       "      <td>109</td>\n",
       "      <td>851.0</td>\n",
       "      <td>42</td>\n",
       "      <td>1046.0</td>\n",
       "    </tr>\n",
       "  </tbody>\n",
       "</table>\n",
       "</div>"
      ],
      "text/plain": [
       "                           Município  \\\n",
       "551  354920 São João das Duas Pontes   \n",
       "97         350860 Cachoeira Paulista   \n",
       "540   354810 Santo Antônio do Jardim   \n",
       "572                   355110 Sarapuí   \n",
       "506               354500 Salesópolis   \n",
       "308                    352720 Lorena   \n",
       "42                   350370 Ariranha   \n",
       "\n",
       "    Sem instrução/1º ciclo fundamental incompleto  \\\n",
       "551                                             6   \n",
       "97                                             82   \n",
       "540                                            24   \n",
       "572                                            27   \n",
       "506                                            74   \n",
       "308                                           393   \n",
       "42                                             44   \n",
       "\n",
       "    1º ciclo fundamental completo/2º ciclo incompleto  \\\n",
       "551                                                 9   \n",
       "97                                                299   \n",
       "540                                                75   \n",
       "572                                               141   \n",
       "506                                               166   \n",
       "308                                               672   \n",
       "42                                                109   \n",
       "\n",
       "     2º ciclo fundamental completo ou mais Não determinada    Total  \n",
       "551                                  237.0               7    259.0  \n",
       "97                                  2963.0             180   3524.0  \n",
       "540                                  533.0              19    651.0  \n",
       "572                                  730.0             107   1005.0  \n",
       "506                                 1491.0              55   1786.0  \n",
       "308                                 8471.0             582  10118.0  \n",
       "42                                   851.0              42   1046.0  "
      ]
     },
     "execution_count": 25,
     "metadata": {},
     "output_type": "execute_result"
    }
   ],
   "source": [
    "df.sample(7)"
   ]
  },
  {
   "cell_type": "code",
   "execution_count": 26,
   "metadata": {},
   "outputs": [
    {
     "data": {
      "text/plain": [
       "Index(['Município', 'Sem instrução/1º ciclo fundamental incompleto',\n",
       "       '1º ciclo fundamental completo/2º ciclo incompleto',\n",
       "       '2º ciclo fundamental completo ou mais', 'Não determinada', 'Total'],\n",
       "      dtype='object')"
      ]
     },
     "execution_count": 26,
     "metadata": {},
     "output_type": "execute_result"
    }
   ],
   "source": [
    "df.columns"
   ]
  },
  {
   "cell_type": "markdown",
   "metadata": {},
   "source": [
    "# Ordena os municípios com pessoas com 2º ciclo fundamental completo ou mais:"
   ]
  },
  {
   "cell_type": "code",
   "execution_count": 27,
   "metadata": {},
   "outputs": [
    {
     "data": {
      "text/plain": [
       "<matplotlib.axes._subplots.AxesSubplot at 0x98f0188>"
      ]
     },
     "execution_count": 27,
     "metadata": {},
     "output_type": "execute_result"
    },
    {
     "data": {
      "image/png": "[encoded data removed]",
      "text/plain": [
       "<Figure size 432x288 with 1 Axes>"
      ]
     },
     "metadata": {
      "needs_background": "light"
     },
     "output_type": "display_data"
    }
   ],
   "source": [
    "df.groupby('Município')['2º ciclo fundamental completo ou mais'].max().sort_values().tail(10).plot(kind='barh')"
   ]
  }
 ],
 "metadata": {
  "kernelspec": {
   "display_name": "Python 3",
   "language": "python",
   "name": "python3"
  },
  "language_info": {
   "codemirror_mode": {
    "name": "ipython",
    "version": 3
   },
   "file_extension": ".py",
   "mimetype": "text/x-python",
   "name": "python",
   "nbconvert_exporter": "python",
   "pygments_lexer": "ipython3",
   "version": "3.7.6"
  }
 },
 "nbformat": 4,
 "nbformat_minor": 2
}
